{
 "cells": [
  {
   "cell_type": "markdown",
   "id": "93963605",
   "metadata": {},
   "source": [
    "# Solar Installation Analysis Notebook\n",
    "This notebook contains code for data cleaning, visualizations, and ML modeling."
   ]
  },
  {
   "cell_type": "code",
   "execution_count": null,
   "id": "042535bd",
   "metadata": {},
   "outputs": [],
   "source": [
    "\n",
    "# 1. Import Libraries\n",
    "import pandas as pd\n",
    "import numpy as np\n",
    "import matplotlib.pyplot as plt\n",
    "import seaborn as sns\n",
    "from sklearn.model_selection import train_test_split\n",
    "from sklearn.ensemble import RandomForestRegressor, RandomForestClassifier\n",
    "from sklearn.metrics import mean_squared_error, r2_score, accuracy_score, roc_auc_score\n",
    "\n",
    "# Load cleaned dataset\n",
    "df = pd.read_csv('cleaned_solar_dataset.csv')\n"
   ]
  },
  {
   "cell_type": "markdown",
   "id": "715f8897",
   "metadata": {},
   "source": [
    "## 2. Data Cleaning"
   ]
  },
  {
   "cell_type": "code",
   "execution_count": null,
   "id": "d159d4fb",
   "metadata": {},
   "outputs": [],
   "source": [
    "\n",
    "# Convert date and engineer features\n",
    "df['installation_date'] = pd.to_datetime(df['installation_date'], errors='coerce')\n",
    "df['subsidy_%'] = (df['govt_subsidy_availed'] / df['system_cost']) * 100\n",
    "df.columns = [c.lower().replace(' ', '_') for c in df.columns]\n",
    "df.head()\n"
   ]
  },
  {
   "cell_type": "markdown",
   "id": "37e8ed06",
   "metadata": {},
   "source": [
    "## 3. Visualizations\n",
    "### 3.1 Distribution of Consumption vs Generation"
   ]
  },
  {
   "cell_type": "code",
   "execution_count": null,
   "id": "81df0f77",
   "metadata": {},
   "outputs": [],
   "source": [
    "\n",
    "plt.figure(figsize=(8,4))\n",
    "sns.kdeplot(df['monthly_consumption_kwh'], label='Consumption')\n",
    "sns.kdeplot(df['solar_generation_kwh'], label='Generation')\n",
    "plt.legend()\n",
    "plt.show()\n"
   ]
  },
  {
   "cell_type": "markdown",
   "id": "3af505c3",
   "metadata": {},
   "source": [
    "## 4. Machine Learning Models\n",
    "### 4.1 ROI Prediction"
   ]
  },
  {
   "cell_type": "code",
   "execution_count": null,
   "id": "7c4a32d6",
   "metadata": {},
   "outputs": [],
   "source": [
    "\n",
    "# ROI Prediction\n",
    "features = [\n",
    "    'household_size','house_area_sqft','household_income',\n",
    "    'monthly_consumption_kwh','solar_generation_kwh','battery_storage_kwh',\n",
    "    'net_energy_sent_to_grid_kwh','system_cost','govt_subsidy_availed',\n",
    "    'loan_amount','interest_rate_%','emi_per_month','payback_period_years',\n",
    "    'maintenance_cost_per_year','annual_output_kwh','subsidy_%'\n",
    "]\n",
    "target = 'roi_%'\n",
    "\n",
    "X = df[features]\n",
    "y = df[target]\n",
    "\n",
    "X_train, X_test, y_train, y_test = train_test_split(X, y, test_size=0.2, random_state=42)\n",
    "model = RandomForestRegressor(n_estimators=100, random_state=42)\n",
    "model.fit(X_train, y_train)\n",
    "pred = model.predict(X_test)\n",
    "print('ROI RMSE:', mean_squared_error(y_test, pred, squared=False))\n",
    "print('ROI R2:', r2_score(y_test, pred))\n"
   ]
  },
  {
   "cell_type": "markdown",
   "id": "4d94ec71",
   "metadata": {},
   "source": [
    "### 4.2 Payback Period Prediction"
   ]
  },
  {
   "cell_type": "code",
   "execution_count": null,
   "id": "bbc65d14",
   "metadata": {},
   "outputs": [],
   "source": [
    "\n",
    "# Payback Period Prediction\n",
    "target_pp = 'payback_period_years'\n",
    "X_pp = df[features]\n",
    "y_pp = df[target_pp]\n",
    "X_train_pp, X_test_pp, y_train_pp, y_test_pp = train_test_split(X_pp, y_pp, test_size=0.2, random_state=42)\n",
    "model_pp = RandomForestRegressor(n_estimators=100, random_state=42)\n",
    "model_pp.fit(X_train_pp, y_train_pp)\n",
    "pred_pp = model_pp.predict(X_test_pp)\n",
    "print('Payback RMSE:', mean_squared_error(y_test_pp, pred_pp, squared=False))\n",
    "print('Payback R2:', r2_score(y_test_pp, pred_pp))\n"
   ]
  },
  {
   "cell_type": "markdown",
   "id": "7400a091",
   "metadata": {},
   "source": [
    "### 4.3 Monthly Savings Prediction"
   ]
  },
  {
   "cell_type": "code",
   "execution_count": null,
   "id": "d480f879",
   "metadata": {},
   "outputs": [],
   "source": [
    "\n",
    "# Monthly Savings Prediction\n",
    "target_ms = 'monthly_savings_rs'\n",
    "X_ms = df[features]\n",
    "y_ms = df[target_ms]\n",
    "X_train_ms, X_test_ms, y_train_ms, y_test_ms = train_test_split(X_ms, y_ms, test_size=0.2, random_state=42)\n",
    "model_ms = RandomForestRegressor(n_estimators=100, random_state=42)\n",
    "model_ms.fit(X_train_ms, y_train_ms)\n",
    "pred_ms = model_ms.predict(X_test_ms)\n",
    "print('Savings RMSE:', mean_squared_error(y_test_ms, pred_ms, squared=False))\n",
    "print('Savings R2:', r2_score(y_test_ms, pred_ms))\n"
   ]
  },
  {
   "cell_type": "markdown",
   "id": "4babd129",
   "metadata": {},
   "source": [
    "### 4.4 High ROI Classification"
   ]
  },
  {
   "cell_type": "code",
   "execution_count": null,
   "id": "81f3cd01",
   "metadata": {},
   "outputs": [],
   "source": [
    "\n",
    "# High ROI Classification\n",
    "df['high_roi'] = (df['roi_%'] >= 30).astype(int)\n",
    "X_clf = df[features]\n",
    "y_clf = df['high_roi']\n",
    "X_train_c, X_test_c, y_train_c, y_test_c = train_test_split(X_clf, y_clf, test_size=0.2, random_state=42)\n",
    "clf = RandomForestClassifier(n_estimators=100, random_state=42)\n",
    "clf.fit(X_train_c, y_train_c)\n",
    "pred_c = clf.predict(X_test_c)\n",
    "print('Accuracy:', accuracy_score(y_test_c, pred_c))\n",
    "print('ROC AUC:', roc_auc_score(y_test_c, clf.predict_proba(X_test_c)[:,1]))\n"
   ]
  }
 ],
 "metadata": {},
 "nbformat": 4,
 "nbformat_minor": 5
}
