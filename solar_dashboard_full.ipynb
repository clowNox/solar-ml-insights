{
 "cells": [
  {
   "cell_type": "markdown",
   "id": "a71b9485",
   "metadata": {},
   "source": [
    "# ☀️ Full Solar ROI Project Dashboard\n",
    "This dashboard includes all visualizations, model evaluations, and feature insights."
   ]
  },
  {
   "cell_type": "markdown",
   "id": "1459d250",
   "metadata": {},
   "source": [
    "## 📊 Visualizations"
   ]
  },
  {
   "cell_type": "code",
   "execution_count": null,
   "id": "c61c06c6",
   "metadata": {},
   "outputs": [],
   "source": [
    "# 1. Consumption vs Generation\n",
    "plt.figure(figsize=(8, 4))\n",
    "sns.kdeplot(df['monthly_consumption_kwh'], label='Consumption', fill=True)\n",
    "sns.kdeplot(df['solar_generation_kwh'], label='Generation', fill=True)\n",
    "plt.title('Consumption vs Generation')\n",
    "plt.legend(); plt.grid(True); plt.show()"
   ]
  },
  {
   "cell_type": "code",
   "execution_count": null,
   "id": "999c6fb2",
   "metadata": {},
   "outputs": [],
   "source": [
    "# 2. Correlation Heatmap\n",
    "plt.figure(figsize=(12, 10))\n",
    "sns.heatmap(df.corr(numeric_only=True), annot=True, fmt='.2f', cmap='coolwarm')\n",
    "plt.title('Correlation Heatmap')\n",
    "plt.show()"
   ]
  },
  {
   "cell_type": "code",
   "execution_count": null,
   "id": "a104df39",
   "metadata": {},
   "outputs": [],
   "source": [
    "# 3. ROI by Panel Type\n",
    "if 'solar_panel_type' in df.columns:\n",
    "    sns.boxplot(x='solar_panel_type', y='roi_%', data=df)\n",
    "    plt.title('ROI by Panel Type'); plt.show()"
   ]
  },
  {
   "cell_type": "code",
   "execution_count": null,
   "id": "486cca43",
   "metadata": {},
   "outputs": [],
   "source": [
    "# 4. Monthly Savings vs System Cost\n",
    "sns.scatterplot(x='system_cost', y='monthly_savings_rs', data=df)\n",
    "plt.title('Savings vs Cost'); plt.show()"
   ]
  },
  {
   "cell_type": "code",
   "execution_count": null,
   "id": "28a0946c",
   "metadata": {},
   "outputs": [],
   "source": [
    "# 5. Payback Period Distribution\n",
    "sns.histplot(df['payback_period_years'], kde=True, bins=30)\n",
    "plt.title('Payback Period Distribution'); plt.show()"
   ]
  },
  {
   "cell_type": "code",
   "execution_count": null,
   "id": "dca4cf8c",
   "metadata": {},
   "outputs": [],
   "source": [
    "# 6. Subsidy vs ROI\n",
    "sns.scatterplot(x='subsidy_%', y='roi_%', data=df)\n",
    "plt.title('Subsidy % vs ROI'); plt.show()"
   ]
  },
  {
   "cell_type": "code",
   "execution_count": null,
   "id": "a00de1ef",
   "metadata": {},
   "outputs": [],
   "source": [
    "# 7. CO2 Saved vs Annual Output\n",
    "sns.scatterplot(x='annual_output_kwh', y='co2_saved_kg_per_year', data=df)\n",
    "plt.title('CO2 Saved vs Output'); plt.show()"
   ]
  },
  {
   "cell_type": "code",
   "execution_count": null,
   "id": "74a8eeaa",
   "metadata": {},
   "outputs": [],
   "source": [
    "# 8. ROI by Ownership and Location\n",
    "if 'ownership_type' in df.columns and 'location_type' in df.columns:\n",
    "    sns.barplot(x='ownership_type', y='roi_%', hue='location_type', data=df)\n",
    "    plt.title('ROI by Ownership & Location'); plt.show()"
   ]
  },
  {
   "cell_type": "markdown",
   "id": "41c2f602",
   "metadata": {},
   "source": [
    "## 📈 ML Model Performance Summary"
   ]
  },
  {
   "cell_type": "code",
   "execution_count": null,
   "id": "6f531fcd",
   "metadata": {},
   "outputs": [],
   "source": [
    "ml_results = pd.DataFrame({\n",
    "    'Model': ['ROI Prediction', 'Payback Period', 'Monthly Savings', 'High ROI Classification'],\n",
    "    'RMSE / Accuracy': [round(rmse, 2), round(rmse_pp, 2), round(rmse_ms, 2), round(accuracy_score(y_test_clf, pred_clf), 2)],\n",
    "    'R² / ROC AUC': [round(r2, 2), round(r2_pp, 2), round(r2_ms, 2), round(roc_auc_score(y_test_clf, proba_clf), 2)]\n",
    "})\n",
    "ml_results.style.set_caption('ML Model Summary')"
   ]
  },
  {
   "cell_type": "markdown",
   "id": "47f2ea14",
   "metadata": {},
   "source": [
    "## 🧠 Feature Importance"
   ]
  },
  {
   "cell_type": "code",
   "execution_count": null,
   "id": "e09369b0",
   "metadata": {},
   "outputs": [],
   "source": [
    "# ROI Model\n",
    "feat_imp_roi = pd.DataFrame({'Feature': features, 'Importance': model_roi.feature_importances_}).sort_values(by='Importance', ascending=False)\n",
    "sns.barplot(data=feat_imp_roi, x='Importance', y='Feature')\n",
    "plt.title('ROI Model'); plt.show()"
   ]
  },
  {
   "cell_type": "code",
   "execution_count": null,
   "id": "5762ac15",
   "metadata": {},
   "outputs": [],
   "source": [
    "# Payback Model\n",
    "feat_imp_pp = pd.DataFrame({'Feature': features, 'Importance': model_pp.feature_importances_}).sort_values(by='Importance', ascending=False)\n",
    "sns.barplot(data=feat_imp_pp, x='Importance', y='Feature')\n",
    "plt.title('Payback Model'); plt.show()"
   ]
  },
  {
   "cell_type": "code",
   "execution_count": null,
   "id": "0b1b776c",
   "metadata": {},
   "outputs": [],
   "source": [
    "# Savings Model\n",
    "feat_imp_ms = pd.DataFrame({'Feature': features, 'Importance': model_ms.feature_importances_}).sort_values(by='Importance', ascending=False)\n",
    "sns.barplot(data=feat_imp_ms, x='Importance', y='Feature')\n",
    "plt.title('Savings Model'); plt.show()"
   ]
  },
  {
   "cell_type": "code",
   "execution_count": null,
   "id": "16261cd1",
   "metadata": {},
   "outputs": [],
   "source": [
    "# High ROI Classifier\n",
    "feat_imp_clf = pd.DataFrame({'Feature': features, 'Importance': model_clf.feature_importances_}).sort_values(by='Importance', ascending=False)\n",
    "sns.barplot(data=feat_imp_clf, x='Importance', y='Feature')\n",
    "plt.title('High ROI Classifier'); plt.show()"
   ]
  }
 ],
 "metadata": {},
 "nbformat": 4,
 "nbformat_minor": 5
}
