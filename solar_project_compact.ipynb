{
 "cells": [
  {
   "cell_type": "code",
   "execution_count": null,
   "id": "8bf39025",
   "metadata": {},
   "outputs": [],
   "source": [
    "\n",
    "import pandas as pd\n",
    "import numpy as np\n",
    "import matplotlib.pyplot as plt\n",
    "import seaborn as sns\n",
    "\n",
    "from sklearn.model_selection import train_test_split\n",
    "from sklearn.ensemble import RandomForestRegressor, RandomForestClassifier\n",
    "from sklearn.metrics import mean_squared_error, r2_score, accuracy_score, roc_auc_score\n",
    "\n",
    "# Load dataset\n",
    "df = pd.read_csv('/content/cleaned_solar_dataset.csv')\n",
    "df.columns = df.columns.str.lower().str.replace(' ', '_')\n",
    "df['installation_date'] = pd.to_datetime(df['installation_date'], errors='coerce')\n",
    "df['subsidy_%'] = (df['govt_subsidy_availed'] / df['system_cost']).clip(0, 1) * 100\n"
   ]
  },
  {
   "cell_type": "code",
   "execution_count": null,
   "id": "aa77a57b",
   "metadata": {},
   "outputs": [],
   "source": [
    "\n",
    "features = [\n",
    "    \"household_size\", \"house_area_sqft\", \"household_income\",\n",
    "    \"monthly_consumption_kwh\", \"solar_generation_kwh\", \"battery_storage_kwh\",\n",
    "    \"net_energy_sent_to_grid_kwh\", \"system_cost\", \"govt_subsidy_availed\",\n",
    "    \"loan_amount\", \"interest_rate_%\", \"emi_per_month\", \"payback_period_years\",\n",
    "    \"maintenance_cost_per_year\", \"annual_output_kwh\", \"subsidy_%\"\n",
    "]\n"
   ]
  },
  {
   "cell_type": "code",
   "execution_count": null,
   "id": "1f529d9e",
   "metadata": {},
   "outputs": [],
   "source": [
    "sns.kdeplot(df['monthly_consumption_kwh'], label='Consumption', fill=True); sns.kdeplot(df['solar_generation_kwh'], label='Generation', fill=True); plt.legend(); plt.title('Consumption vs Generation'); plt.show()"
   ]
  },
  {
   "cell_type": "code",
   "execution_count": null,
   "id": "c0ae3d91",
   "metadata": {},
   "outputs": [],
   "source": [
    "sns.heatmap(df.corr(numeric_only=True), annot=False, cmap='coolwarm'); plt.title('Correlation'); plt.show()"
   ]
  },
  {
   "cell_type": "code",
   "execution_count": null,
   "id": "d8935864",
   "metadata": {},
   "outputs": [],
   "source": [
    "sns.scatterplot(x='system_cost', y='monthly_savings_rs', data=df); plt.title('Savings vs Cost'); plt.show()"
   ]
  },
  {
   "cell_type": "code",
   "execution_count": null,
   "id": "efb042d9",
   "metadata": {},
   "outputs": [],
   "source": [
    "sns.histplot(df['payback_period_years'], kde=True); plt.title('Payback Distribution'); plt.show()"
   ]
  },
  {
   "cell_type": "code",
   "execution_count": null,
   "id": "8c9cbddb",
   "metadata": {},
   "outputs": [],
   "source": [
    "sns.scatterplot(x='subsidy_%', y='roi_%', data=df); plt.title('Subsidy vs ROI'); plt.show()"
   ]
  },
  {
   "cell_type": "code",
   "execution_count": null,
   "id": "abfd5227",
   "metadata": {},
   "outputs": [],
   "source": [
    "sns.scatterplot(x='annual_output_kwh', y='co2_saved_kg_per_year', data=df); plt.title('CO2 Saved vs Output'); plt.show()"
   ]
  },
  {
   "cell_type": "code",
   "execution_count": null,
   "id": "0024ba02",
   "metadata": {},
   "outputs": [],
   "source": [
    "X = df[features]; y = df['roi_%']\n",
    "X_train, X_test, y_train, y_test = train_test_split(X, y, test_size=0.2, random_state=42)\n",
    "model_roi = RandomForestRegressor(n_estimators=100, random_state=42)\n",
    "model_roi.fit(X_train, y_train)\n",
    "pred = model_roi.predict(X_test)\n",
    "print('ROI RMSE:', np.sqrt(mean_squared_error(y_test, pred)), '| R2:', r2_score(y_test, pred))"
   ]
  },
  {
   "cell_type": "code",
   "execution_count": null,
   "id": "f3f74ac7",
   "metadata": {},
   "outputs": [],
   "source": [
    "y_pp = df['payback_period_years']\n",
    "X_train_pp, X_test_pp, y_train_pp, y_test_pp = train_test_split(X, y_pp, test_size=0.2, random_state=42)\n",
    "model_pp = RandomForestRegressor(n_estimators=100, random_state=42)\n",
    "model_pp.fit(X_train_pp, y_train_pp)\n",
    "pred_pp = model_pp.predict(X_test_pp)\n",
    "print('Payback RMSE:', np.sqrt(mean_squared_error(y_test_pp, pred_pp)), '| R2:', r2_score(y_test_pp, pred_pp))"
   ]
  },
  {
   "cell_type": "code",
   "execution_count": null,
   "id": "33e00a39",
   "metadata": {},
   "outputs": [],
   "source": [
    "y_ms = df['monthly_savings_rs']\n",
    "X_train_ms, X_test_ms, y_train_ms, y_test_ms = train_test_split(X, y_ms, test_size=0.2, random_state=42)\n",
    "model_ms = RandomForestRegressor(n_estimators=100, random_state=42)\n",
    "model_ms.fit(X_train_ms, y_train_ms)\n",
    "pred_ms = model_ms.predict(X_test_ms)\n",
    "print('Savings RMSE:', np.sqrt(mean_squared_error(y_test_ms, pred_ms)), '| R2:', r2_score(y_test_ms, pred_ms))"
   ]
  },
  {
   "cell_type": "code",
   "execution_count": null,
   "id": "11ce0805",
   "metadata": {},
   "outputs": [],
   "source": [
    "df['high_roi'] = (df['roi_%'] >= 30).astype(int)\n",
    "y_clf = df['high_roi']\n",
    "X_train_c, X_test_c, y_train_c, y_test_c = train_test_split(X, y_clf, test_size=0.2, random_state=42)\n",
    "model_clf = RandomForestClassifier(n_estimators=100, random_state=42)\n",
    "model_clf.fit(X_train_c, y_train_c)\n",
    "pred_c = model_clf.predict(X_test_c)\n",
    "proba_c = model_clf.predict_proba(X_test_c)[:, 1]\n",
    "print('Classifier Accuracy:', accuracy_score(y_test_c, pred_c), '| ROC AUC:', roc_auc_score(y_test_c, proba_c))"
   ]
  },
  {
   "cell_type": "code",
   "execution_count": null,
   "id": "8bfd4230",
   "metadata": {},
   "outputs": [],
   "source": [
    "\n",
    "for model, name in zip([model_roi, model_pp, model_ms, model_clf], ['ROI', 'Payback', 'Savings', 'Classifier']):\n",
    "    importances = pd.DataFrame({'Feature': features, 'Importance': model.feature_importances_}).sort_values(by='Importance', ascending=False)\n",
    "    sns.barplot(x='Importance', y='Feature', data=importances)\n",
    "    plt.title(f'Feature Importance - {name}')\n",
    "    plt.tight_layout()\n",
    "    plt.show()\n"
   ]
  }
 ],
 "metadata": {},
 "nbformat": 4,
 "nbformat_minor": 5
}
